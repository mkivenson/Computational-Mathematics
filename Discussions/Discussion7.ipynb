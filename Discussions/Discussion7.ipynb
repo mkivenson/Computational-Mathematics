{
 "cells": [
  {
   "cell_type": "markdown",
   "metadata": {},
   "source": [
    "## Expected Value\n",
    "#### Chapter 6.1, Page 247\n",
    "\n",
    "1. A card is drawn at random from a deck consisting of cards numbered 2 through 10. A player wins 1 dollar if the number on the card is odd and loses 1 dollar if the number if even. What is the expected value of his winnings?"
   ]
  },
  {
   "cell_type": "code",
   "execution_count": 3,
   "metadata": {},
   "outputs": [
    {
     "name": "stdout",
     "output_type": "stream",
     "text": [
      "The expected value of his winnings is $0.11\n"
     ]
    }
   ],
   "source": [
    "win_prob = 5/9\n",
    "lose_prob = 4/9\n",
    "exp = (win_prob * 1) + (lose_prob * -1)\n",
    "print('The expected value of his winnings is $' + str(round(exp,2)))"
   ]
  },
  {
   "cell_type": "markdown",
   "metadata": {},
   "source": [
    "2. A card is drawn at random from a deck of playing cards. If it is red, the player wins 1 dollar; if it is black, the player loses 2 dollars. Find the expected value of the game."
   ]
  },
  {
   "cell_type": "code",
   "execution_count": 4,
   "metadata": {},
   "outputs": [
    {
     "name": "stdout",
     "output_type": "stream",
     "text": [
      "The expected value of his winnings is $-0.5\n"
     ]
    }
   ],
   "source": [
    "win_prob = 1/2\n",
    "lose_prob = 1/2\n",
    "exp = (win_prob * 1) + (lose_prob * -2)\n",
    "print('The expected value of his winnings is $' + str(round(exp,2)))"
   ]
  },
  {
   "cell_type": "markdown",
   "metadata": {},
   "source": [
    "3. In a class there are 20 students: 3 are 5’ 6”, 5 are 5’8”, 4 are 5’10”, 4 are 6’, and 4 are 6’ 2”. A student is chosen at random. What is the student’s expected height?"
   ]
  },
  {
   "cell_type": "code",
   "execution_count": 20,
   "metadata": {},
   "outputs": [
    {
     "name": "stdout",
     "output_type": "stream",
     "text": [
      "The expected height is 70.1 inches\n"
     ]
    }
   ],
   "source": [
    "heights = [66, 68, 70, 72, 74]\n",
    "quantities = [3, 5, 4, 4, 4]\n",
    "exp = 0\n",
    "for i in zip(heights, quantities):\n",
    "    exp = exp + (i[0] * i[1]/20)\n",
    "\n",
    "print('The expected height is ' + str(exp) + ' inches')"
   ]
  }
 ],
 "metadata": {
  "kernelspec": {
   "display_name": "Python 3.7",
   "language": "python",
   "name": "py3.7"
  },
  "language_info": {
   "codemirror_mode": {
    "name": "ipython",
    "version": 3
   },
   "file_extension": ".py",
   "mimetype": "text/x-python",
   "name": "python",
   "nbconvert_exporter": "python",
   "pygments_lexer": "ipython3",
   "version": "3.7.4"
  }
 },
 "nbformat": 4,
 "nbformat_minor": 2
}
