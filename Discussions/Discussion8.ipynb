{
 "cells": [
  {
   "cell_type": "markdown",
   "metadata": {},
   "source": [
    "## Law of Large Numbers\n",
    "#### Chapter 8.2, Page 322\n",
    "\n",
    "\n",
    "### Chebyshev Inequality\n",
    "\n",
    "Let X be a discrete random variable with expected value μ = E(X), and let $$\\sigma > 0 $$ be any positive real number. Then\n",
    "$$P(|X-\\mu| \\geq \\sigma) \\leq \\frac{V(X)}{\\sigma^2}$$\n",
    "\n",
    "### Question 9\n",
    "\n",
    "#### Part A\n",
    "- Suppose a number X is chosen at random from [0, 20] with uniform probability. Find a lower bound for the probability that X lies between 8 and 12, using Chebyshev’s Inequality.\n"
   ]
  },
  {
   "cell_type": "markdown",
   "metadata": {},
   "source": [
    "#### Solution\n",
    "\n",
    "$$ E(X) = \\frac{20+0}{2} = 10 $$\n",
    "\n",
    "$$ V(X) = \\frac{20^2}{12} = \\frac{100}{3} $$\n",
    "\n",
    "$$ \\sigma = 2  $$\n",
    "\n",
    "$$ P(|X - 10| \\geq 2) \\leq \\frac{\\frac{100}{3}}{4} = \\frac{100}{12} $$\n",
    "\n",
    "$$ P(|X - 10| < 2) \\geq 1 - \\frac{100}{12} $$\n",
    "\n",
    "$$ P(|X - 10| < 2) \\geq -7.33 $$\n",
    "\n",
    "Since the variance is greater than the difference, the resulting lower bound is not significant."
   ]
  },
  {
   "cell_type": "markdown",
   "metadata": {},
   "source": [
    "#### Part B\n",
    "- Now suppose 20 real numbers are chosen independently from [0, 20] with uniform probability. Find a lower bound for the probability that their average lies between 8 and 12.\n",
    "\n",
    "#### Solution\n",
    "\n",
    "$$ P(|X_{20} - 10| \\geq 2) \\frac{\\frac{100}{3}}{4 * 20} = \\frac{100}{240} $$\n",
    "\n",
    "$$ P(|X_{20} - 10| < 2) \\geq 1 - \\frac{5}{12} $$\n",
    "\n",
    "$$ P(|X_{20} - 10| < 2) \\geq \\frac{7}{12} $$\n",
    "\n",
    "#### Part C\n",
    "- Now suppose 100 real numbers are chosen independently from [0, 20]. Find a lower bound for the probability that their average lies between 8 and 12.\n",
    "\n",
    "#### Solution\n",
    "\n",
    "$$ P(|X_{100} - 10| \\geq 2) \\frac{\\frac{100}{3}}{4 * 100} = \\frac{100}{1200} $$\n",
    "\n",
    "$$ P(|X_{100} - 10| < 2) \\geq 1 - \\frac{1}{12} $$\n",
    "\n",
    "$$ P(|X_{100} - 10| < 2) \\geq \\frac{11}{12} $$"
   ]
  },
  {
   "cell_type": "code",
   "execution_count": null,
   "metadata": {},
   "outputs": [],
   "source": []
  }
 ],
 "metadata": {
  "kernelspec": {
   "display_name": "Python 3",
   "language": "python",
   "name": "python3"
  },
  "language_info": {
   "codemirror_mode": {
    "name": "ipython",
    "version": 3
   },
   "file_extension": ".py",
   "mimetype": "text/x-python",
   "name": "python",
   "nbconvert_exporter": "python",
   "pygments_lexer": "ipython3",
   "version": "3.7.3"
  }
 },
 "nbformat": 4,
 "nbformat_minor": 2
}
