{
 "cells": [
  {
   "cell_type": "markdown",
   "metadata": {},
   "source": [
    "## Law of Large Numbers\n",
    "#### Chapter 8.2, Page 322\n",
    "\n",
    "### Question 9 Part A\n",
    "- Suppose a number X is chosen at random from [0, 20] with uniform probability. Find a lower bound for the probability that X lies between 8 and 12, using Chebyshev’s Inequality.\n",
    "\n",
    "#### Chebyshev Inequality\n",
    "\n",
    "Let X be a discrete random variable with expected value μ = E(X), and let $$\\sigma > 0 $$ be any positive real number. Then\n",
    "$$P(|X-\\mu| \\geq \\sigma) \\leq \\frac{V(X)}{\\sigma^2}$$"
   ]
  },
  {
   "cell_type": "markdown",
   "metadata": {},
   "source": [
    "#### Solution\n",
    "\n",
    "$$ E(X) = \\frac{20+0}{2} = 10 $$\n",
    "\n",
    "$$ V(X) = \\frac{20^2}{12} = \\frac{100}{3} $$\n",
    "\n",
    "$$ \\sigma = 2  $$\n",
    "\n",
    "$$ P(|X - 10| \\geq 2) \\leq \\frac{\\frac{100}{3}}{4} = \\frac{100}{12} $$\n",
    "\n",
    "$$ P(|X - 10| < 2) \\geq 1 - \\frac{100}{12} $$\n",
    "\n",
    "$$ P(|X - 10| < 2) \\geq -7.33 $$\n",
    "\n",
    "Since the variance is greater than the difference, the resulting lower bound is not significant."
   ]
  },
  {
   "cell_type": "markdown",
   "metadata": {},
   "source": [
    "- Now suppose 20 real numbers are chosen independently from [0, 20] with uniform probability. Find a lower bound for the probability that their average lies between 8 and 12.\n",
    "\n",
    "#### Solution\n",
    "\n",
    "$$ P(|X_{20} - 10| \\geq 2) \\frac{\\frac{100}{3}}{4 * 20} = \\frac{100}{240} $$\n",
    "\n",
    "$$ P(|X_{20} - 10| < 2) \\geq 1 - \\frac{5}{12} $$\n",
    "\n",
    "$$ P(|X_{20} - 10| < 2) \\geq \\frac{7}{12} $$\n",
    "\n",
    "- Now suppose 100 real numbers are chosen independently from [0, 20]. Find a lower bound for the probability that their average lies between 8 and 12.\n",
    "\n",
    "#### Solution\n",
    "\n",
    "$$ P(|X_{100} - 10| \\geq 2) \\frac{\\frac{100}{3}}{4 * 100} = \\frac{100}{1200} $$\n",
    "\n",
    "$$ P(|X_{100} - 10| < 2) \\geq 1 - \\frac{1}{12} $$\n",
    "\n",
    "$$ P(|X_{100} - 10| < 2) \\geq \\frac{11}{12} $$"
   ]
  },
  {
   "cell_type": "markdown",
   "metadata": {},
   "source": [
    "2. A card is drawn at random from a deck of playing cards. If it is red, the player wins 1 dollar; if it is black, the player loses 2 dollars. Find the expected value of the game."
   ]
  },
  {
   "cell_type": "code",
   "execution_count": 4,
   "metadata": {},
   "outputs": [
    {
     "name": "stdout",
     "output_type": "stream",
     "text": [
      "The expected value of his winnings is $-0.5\n"
     ]
    }
   ],
   "source": [
    "win_prob = 1/2\n",
    "lose_prob = 1/2\n",
    "exp = (win_prob * 1) + (lose_prob * -2)\n",
    "print('The expected value of his winnings is $' + str(round(exp,2)))"
   ]
  },
  {
   "cell_type": "markdown",
   "metadata": {},
   "source": [
    "3. In a class there are 20 students: 3 are 5’ 6”, 5 are 5’8”, 4 are 5’10”, 4 are 6’, and 4 are 6’ 2”. A student is chosen at random. What is the student’s expected height?"
   ]
  },
  {
   "cell_type": "code",
   "execution_count": 20,
   "metadata": {},
   "outputs": [
    {
     "name": "stdout",
     "output_type": "stream",
     "text": [
      "The expected height is 70.1 inches\n"
     ]
    }
   ],
   "source": [
    "heights = [66, 68, 70, 72, 74]\n",
    "quantities = [3, 5, 4, 4, 4]\n",
    "exp = 0\n",
    "for i in zip(heights, quantities):\n",
    "    exp = exp + (i[0] * i[1]/20)\n",
    "\n",
    "print('The expected height is ' + str(exp) + ' inches')"
   ]
  }
 ],
 "metadata": {
  "kernelspec": {
   "display_name": "Python 3",
   "language": "python",
   "name": "python3"
  },
  "language_info": {
   "codemirror_mode": {
    "name": "ipython",
    "version": 3
   },
   "file_extension": ".py",
   "mimetype": "text/x-python",
   "name": "python",
   "nbconvert_exporter": "python",
   "pygments_lexer": "ipython3",
   "version": "3.7.3"
  }
 },
 "nbformat": 4,
 "nbformat_minor": 2
}
