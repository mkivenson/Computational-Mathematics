{
 "cells": [
  {
   "cell_type": "markdown",
   "metadata": {},
   "source": [
    "##  CHAPTER 9. CENTRAL LIMIT THEOREM\n",
    "### Page 354, Exercise 5\n",
    "A die is thrown until the ﬁrst time the total sum of the face values of the die is 700 or greater. Estimate the probability that, for this to happen,\n",
    "\n",
    "#### Simulation - 10,000 Trials of Die Sums of at least 700"
   ]
  },
  {
   "cell_type": "code",
   "execution_count": 34,
   "metadata": {},
   "outputs": [],
   "source": [
    "import random\n",
    "\n",
    "# list of die counts\n",
    "die_counts = list()\n",
    "\n",
    "for trial in range(1,10000):\n",
    "  \n",
    "    # sum of die rolls\n",
    "    die_sum = 0\n",
    "    \n",
    "    # count of die rolls to reach 700 sum\n",
    "    die_count = 0\n",
    "\n",
    "    while die_sum < 700:\n",
    "\n",
    "        die_roll = random.randint(1,6)\n",
    "        die_sum = die_roll + die_sum\n",
    "        die_count = die_count + 1\n",
    "        \n",
    "    die_counts.append(die_count)"
   ]
  },
  {
   "cell_type": "code",
   "execution_count": 69,
   "metadata": {},
   "outputs": [
    {
     "data": {
      "image/png": "[encoded data removed]",
      "text/plain": [
       "<Figure size 432x288 with 1 Axes>"
      ]
     },
     "metadata": {
      "needs_background": "light"
     },
     "output_type": "display_data"
    }
   ],
   "source": [
    "import matplotlib.pyplot as plt\n",
    "import numpy as np\n",
    "import pandas as pd\n",
    "from matplotlib import colors\n",
    "from matplotlib.ticker import PercentFormatter\n",
    "g = plt.hist(list(die_counts), bins=25, color=\"green\")\n",
    "plt.grid(True)\n",
    "plt.xlabel('Rolls to Reach 700 Sum')\n",
    "plt.ylabel('Count of Trials')\n",
    "plt.title('Histogram of No. Die Rolls to Reach 700 Sum')\n",
    "plt.show()"
   ]
  },
  {
   "cell_type": "markdown",
   "metadata": {},
   "source": [
    "(a) more than 210 tosses are required. "
   ]
  },
  {
   "cell_type": "code",
   "execution_count": 106,
   "metadata": {},
   "outputs": [
    {
     "name": "stdout",
     "output_type": "stream",
     "text": [
      "0.0752\n"
     ]
    }
   ],
   "source": [
    "# number of trials with more than 210 tosses\n",
    "no_210 = len([i for i in die_counts if i in range(211,max(die_counts)+1)])\n",
    "\n",
    "# probability\n",
    "print(round(no_210/len(die_counts),4))"
   ]
  },
  {
   "cell_type": "markdown",
   "metadata": {},
   "source": [
    "(b) less than 190 tosses are required. "
   ]
  },
  {
   "cell_type": "code",
   "execution_count": 107,
   "metadata": {},
   "outputs": [
    {
     "name": "stdout",
     "output_type": "stream",
     "text": [
      "0.0554\n"
     ]
    }
   ],
   "source": [
    "# number of trials with less than 190 tosses\n",
    "no_190 = len([i for i in die_counts if i in range(0,190)])\n",
    "\n",
    "# probability\n",
    "print(round(no_190/len(die_counts),4))"
   ]
  },
  {
   "cell_type": "markdown",
   "metadata": {},
   "source": [
    "(c) between 180 and 210 tosses, inclusive, are required."
   ]
  },
  {
   "cell_type": "code",
   "execution_count": 109,
   "metadata": {},
   "outputs": [
    {
     "name": "stdout",
     "output_type": "stream",
     "text": [
      "0.8694\n"
     ]
    }
   ],
   "source": [
    "# number of trials with 180-210 tosses\n",
    "no_180_210 = len([i for i in die_counts if i in range(180,211)])\n",
    "\n",
    "# probability\n",
    "print(round(no_180_210/len(die_counts),4))"
   ]
  }
 ],
 "metadata": {
  "kernelspec": {
   "display_name": "Python 3.7",
   "language": "python",
   "name": "py3.7"
  },
  "language_info": {
   "codemirror_mode": {
    "name": "ipython",
    "version": 3
   },
   "file_extension": ".py",
   "mimetype": "text/x-python",
   "name": "python",
   "nbconvert_exporter": "python",
   "pygments_lexer": "ipython3",
   "version": "3.7.4"
  }
 },
 "nbformat": 4,
 "nbformat_minor": 2
}
