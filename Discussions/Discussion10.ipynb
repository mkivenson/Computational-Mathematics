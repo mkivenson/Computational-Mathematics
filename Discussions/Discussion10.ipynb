{
 "cells": [
  {
   "cell_type": "markdown",
   "metadata": {},
   "source": [
    "## CHAPTER 11. MARKOV CHAINS\n",
    "#### Page 414, Question 4\n"
   ]
  },
  {
   "cell_type": "markdown",
   "metadata": {},
   "source": [
    " In the Dark Ages, Harvard, Dartmouth, and Yale admitted only male students. Assume that, at that time, 80 percent of the sons of Harvard men went to Harvard and the rest went to Yale, 40 percent of the sons of Yale men went to Yale, and the rest split evenly between Harvard and Dartmouth; and of the sons of Dartmouth men, 70 percent went to Dartmouth, 20 percent to Harvard, and 10 percent to Yale. We form a Markov chain with transition matrix "
   ]
  },
  {
   "cell_type": "code",
   "execution_count": 21,
   "metadata": {},
   "outputs": [
    {
     "data": {
      "text/html": [
       "<div>\n",
       "<style scoped>\n",
       "    .dataframe tbody tr th:only-of-type {\n",
       "        vertical-align: middle;\n",
       "    }\n",
       "\n",
       "    .dataframe tbody tr th {\n",
       "        vertical-align: top;\n",
       "    }\n",
       "\n",
       "    .dataframe thead th {\n",
       "        text-align: right;\n",
       "    }\n",
       "</style>\n",
       "<table border=\"1\" class=\"dataframe\">\n",
       "  <thead>\n",
       "    <tr style=\"text-align: right;\">\n",
       "      <th></th>\n",
       "      <th>H</th>\n",
       "      <th>Y</th>\n",
       "      <th>D</th>\n",
       "    </tr>\n",
       "  </thead>\n",
       "  <tbody>\n",
       "    <tr>\n",
       "      <td>H</td>\n",
       "      <td>0.8</td>\n",
       "      <td>0.2</td>\n",
       "      <td>0.0</td>\n",
       "    </tr>\n",
       "    <tr>\n",
       "      <td>Y</td>\n",
       "      <td>0.3</td>\n",
       "      <td>0.4</td>\n",
       "      <td>0.3</td>\n",
       "    </tr>\n",
       "    <tr>\n",
       "      <td>D</td>\n",
       "      <td>0.2</td>\n",
       "      <td>0.1</td>\n",
       "      <td>0.7</td>\n",
       "    </tr>\n",
       "  </tbody>\n",
       "</table>\n",
       "</div>"
      ],
      "text/plain": [
       "     H    Y    D\n",
       "H  0.8  0.2  0.0\n",
       "Y  0.3  0.4  0.3\n",
       "D  0.2  0.1  0.7"
      ]
     },
     "execution_count": 21,
     "metadata": {},
     "output_type": "execute_result"
    }
   ],
   "source": [
    "import warnings\n",
    "warnings.filterwarnings(\"ignore\")\n",
    "\n",
    "import pandas as pd\n",
    "markov = pd.DataFrame.from_items([('H', [.8, .2, 0]),\n",
    "                                  ('Y', [.3, .4, .3]), \n",
    "                                  ('D', [.2, .1, .7])], \n",
    "                                 orient='index', \n",
    "                                 columns=['H', 'Y', 'D'])\n",
    "markov"
   ]
  },
  {
   "cell_type": "markdown",
   "metadata": {},
   "source": [
    "Find the probability that the grandson of a man from Harvard went to Harvard."
   ]
  },
  {
   "cell_type": "code",
   "execution_count": 28,
   "metadata": {},
   "outputs": [
    {
     "name": "stdout",
     "output_type": "stream",
     "text": [
      "Probability son went to Harvard and grandson went to Harvard: 0.64\n",
      "Probability son went to Yale and grandson went to Harvard: 0.06\n",
      "Probability son went to Dartmouth and grandson went to Harvard: 0.0\n",
      "Total probability that grandson went to Harvard: 0.7\n"
     ]
    }
   ],
   "source": [
    "h_h_h = markov['H']['H']*markov['H']['H']\n",
    "print('Probability son went to Harvard and grandson went to Harvard: ' + str(round(h_h_h,2)))\n",
    "h_y_h = markov['H']['Y']*markov['Y']['H']\n",
    "print('Probability son went to Yale and grandson went to Harvard: ' + str(h_y_h))\n",
    "h_d_h = markov['H']['D']*markov['D']['H']\n",
    "print('Probability son went to Dartmouth and grandson went to Harvard: ' + str(h_d_h))\n",
    "\n",
    "print('Total probability that grandson went to Harvard: ' + str(round(h_h_h+h_y_h+h_d_h,2)))"
   ]
  }
 ],
 "metadata": {
  "kernelspec": {
   "display_name": "Python 3.7",
   "language": "python",
   "name": "py3.7"
  },
  "language_info": {
   "codemirror_mode": {
    "name": "ipython",
    "version": 3
   },
   "file_extension": ".py",
   "mimetype": "text/x-python",
   "name": "python",
   "nbconvert_exporter": "python",
   "pygments_lexer": "ipython3",
   "version": "3.7.4"
  }
 },
 "nbformat": 4,
 "nbformat_minor": 2
}
